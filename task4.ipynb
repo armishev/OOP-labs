{
 "cells": [
  {
   "cell_type": "code",
   "execution_count": 5,
   "id": "5af4d5db",
   "metadata": {},
   "outputs": [],
   "source": [
    "row = \"Lambdadambda\""
   ]
  },
  {
   "cell_type": "code",
   "execution_count": 6,
   "id": "a3066d7a",
   "metadata": {},
   "outputs": [
    {
     "name": "stdout",
     "output_type": "stream",
     "text": [
      "m\n"
     ]
    }
   ],
   "source": [
    "print(row[2])"
   ]
  },
  {
   "cell_type": "code",
   "execution_count": 7,
   "id": "fe3025ab",
   "metadata": {},
   "outputs": [
    {
     "name": "stdout",
     "output_type": "stream",
     "text": [
      "d\n"
     ]
    }
   ],
   "source": [
    "print(row[-2])"
   ]
  },
  {
   "cell_type": "code",
   "execution_count": 8,
   "id": "c2da5a05",
   "metadata": {},
   "outputs": [
    {
     "name": "stdout",
     "output_type": "stream",
     "text": [
      "L\n",
      "a\n",
      "m\n",
      "b\n",
      "d\n"
     ]
    }
   ],
   "source": [
    "for i in range(5):\n",
    "    print(row[i])"
   ]
  },
  {
   "cell_type": "code",
   "execution_count": 9,
   "id": "0b51b3ea",
   "metadata": {},
   "outputs": [
    {
     "name": "stdout",
     "output_type": "stream",
     "text": [
      "L\n",
      "a\n",
      "m\n",
      "b\n",
      "d\n",
      "a\n",
      "d\n",
      "a\n",
      "m\n",
      "b\n"
     ]
    }
   ],
   "source": [
    "for i in range(len(row)-2):\n",
    "    print(row[i])"
   ]
  },
  {
   "cell_type": "code",
   "execution_count": 10,
   "id": "8bb0757b",
   "metadata": {},
   "outputs": [
    {
     "name": "stdout",
     "output_type": "stream",
     "text": [
      "L\n",
      "m\n",
      "d\n",
      "d\n",
      "m\n",
      "d\n"
     ]
    }
   ],
   "source": [
    "for i in range(0,len(row), 2):\n",
    "    print(row[i])"
   ]
  },
  {
   "cell_type": "code",
   "execution_count": 11,
   "id": "0601c2d6",
   "metadata": {},
   "outputs": [
    {
     "name": "stdout",
     "output_type": "stream",
     "text": [
      "a\n",
      "b\n",
      "a\n",
      "a\n",
      "b\n",
      "a\n"
     ]
    }
   ],
   "source": [
    "for i in range(1,len(row), 2):\n",
    "    print(row[i])"
   ]
  },
  {
   "cell_type": "code",
   "execution_count": 20,
   "id": "063f6b19",
   "metadata": {},
   "outputs": [
    {
     "name": "stdout",
     "output_type": "stream",
     "text": [
      "a\n",
      "d\n",
      "b\n",
      "m\n",
      "a\n",
      "d\n",
      "a\n",
      "d\n",
      "b\n",
      "m\n",
      "a\n",
      "L\n"
     ]
    }
   ],
   "source": [
    "for i in range(len(row)-1,-1,-1):\n",
    "    print(row[i])"
   ]
  },
  {
   "cell_type": "code",
   "execution_count": 21,
   "id": "5d1d8267",
   "metadata": {},
   "outputs": [
    {
     "name": "stdout",
     "output_type": "stream",
     "text": [
      "a\n",
      "b\n",
      "a\n",
      "a\n",
      "b\n",
      "a\n"
     ]
    }
   ],
   "source": [
    "for i in range(len(row)-1,-1,-2):\n",
    "    print(row[i])"
   ]
  },
  {
   "cell_type": "code",
   "execution_count": 22,
   "id": "b14f46ab",
   "metadata": {},
   "outputs": [
    {
     "name": "stdout",
     "output_type": "stream",
     "text": [
      "12\n"
     ]
    }
   ],
   "source": [
    "print(len(row))"
   ]
  },
  {
   "cell_type": "code",
   "execution_count": null,
   "id": "765c8c92",
   "metadata": {},
   "outputs": [],
   "source": []
  }
 ],
 "metadata": {
  "kernelspec": {
   "display_name": "Python 3 (ipykernel)",
   "language": "python",
   "name": "python3"
  },
  "language_info": {
   "codemirror_mode": {
    "name": "ipython",
    "version": 3
   },
   "file_extension": ".py",
   "mimetype": "text/x-python",
   "name": "python",
   "nbconvert_exporter": "python",
   "pygments_lexer": "ipython3",
   "version": "3.9.1"
  }
 },
 "nbformat": 4,
 "nbformat_minor": 5
}

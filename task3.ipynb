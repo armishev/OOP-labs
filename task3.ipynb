{
 "cells": [
  {
   "cell_type": "code",
   "execution_count": 1,
   "id": "9f5e34c5",
   "metadata": {},
   "outputs": [],
   "source": [
    "def summa(list):   #1-я задача\n",
    "    sum = 0\n",
    "    for i in range(10):\n",
    "        sum += list[i]\n",
    "    return sum"
   ]
  },
  {
   "cell_type": "code",
   "execution_count": 2,
   "id": "38da6403",
   "metadata": {},
   "outputs": [
    {
     "data": {
      "text/plain": [
       "45"
      ]
     },
     "execution_count": 2,
     "metadata": {},
     "output_type": "execute_result"
    }
   ],
   "source": [
    "summa([0,1,2,3,4,5,6,7,8,9])"
   ]
  },
  {
   "cell_type": "code",
   "execution_count": 4,
   "id": "8a8bc08a",
   "metadata": {},
   "outputs": [],
   "source": [
    "def eqzero(list):    #2-я задача\n",
    "    count = 0\n",
    "    for i in range(len(list)):\n",
    "        if list[i] == 0:\n",
    "            count += 1\n",
    "    return count"
   ]
  },
  {
   "cell_type": "code",
   "execution_count": 5,
   "id": "e30e83f1",
   "metadata": {},
   "outputs": [
    {
     "data": {
      "text/plain": [
       "1"
      ]
     },
     "execution_count": 5,
     "metadata": {},
     "output_type": "execute_result"
    }
   ],
   "source": [
    "eqzero([0,1,2,3,4,5,6,7,8,9])"
   ]
  },
  {
   "cell_type": "code",
   "execution_count": 6,
   "id": "cee11aad",
   "metadata": {},
   "outputs": [
    {
     "data": {
      "text/plain": [
       "3"
      ]
     },
     "execution_count": 6,
     "metadata": {},
     "output_type": "execute_result"
    }
   ],
   "source": [
    "eqzero([0,0,0,3,4,5,6,7,8,9])"
   ]
  },
  {
   "cell_type": "code",
   "execution_count": 7,
   "id": "57074e1d",
   "metadata": {},
   "outputs": [],
   "source": [
    "def stairs(n):         #3-я задача\n",
    "    for i in range(1,n + 1):\n",
    "        for j in range(1, i + 1):\n",
    "            print(j, sep = '', end = '')\n",
    "        print()"
   ]
  },
  {
   "cell_type": "code",
   "execution_count": 8,
   "id": "ce2d80cd",
   "metadata": {},
   "outputs": [
    {
     "name": "stdout",
     "output_type": "stream",
     "text": [
      "1\n",
      "12\n",
      "123\n",
      "1234\n",
      "12345\n"
     ]
    }
   ],
   "source": [
    "stairs(5)"
   ]
  },
  {
   "cell_type": "code",
   "execution_count": 21,
   "id": "a8113e60",
   "metadata": {},
   "outputs": [],
   "source": [
    "def stairs_back(n):     #4-я задача\n",
    "    for i in range(1,n + 1):\n",
    "        for j in range(1, i + 1):\n",
    "            print(j, sep = '', end = '')\n",
    "        print()\n",
    "    for i in range(n, 1, -1):\n",
    "        for j in range(1, i):\n",
    "            print(j, sep = '', end = '')\n",
    "        print()"
   ]
  },
  {
   "cell_type": "code",
   "execution_count": 22,
   "id": "beeb3347",
   "metadata": {},
   "outputs": [
    {
     "name": "stdout",
     "output_type": "stream",
     "text": [
      "1\n",
      "12\n",
      "123\n",
      "1234\n",
      "12345\n",
      "1234\n",
      "123\n",
      "12\n",
      "1\n"
     ]
    }
   ],
   "source": [
    "stairs_back(5)"
   ]
  },
  {
   "cell_type": "code",
   "execution_count": 23,
   "id": "cb8ffa51",
   "metadata": {},
   "outputs": [
    {
     "name": "stdout",
     "output_type": "stream",
     "text": [
      "1\n",
      "12\n",
      "123\n",
      "1234\n",
      "12345\n",
      "123456\n",
      "1234567\n",
      "12345678\n",
      "123456789\n",
      "12345678910\n",
      "123456789\n",
      "12345678\n",
      "1234567\n",
      "123456\n",
      "12345\n",
      "1234\n",
      "123\n",
      "12\n",
      "1\n"
     ]
    }
   ],
   "source": [
    "stairs_back(10)"
   ]
  },
  {
   "cell_type": "code",
   "execution_count": 6,
   "id": "07652df0",
   "metadata": {},
   "outputs": [
    {
     "name": "stdout",
     "output_type": "stream",
     "text": [
      "5\n",
      "    1    \n",
      "   121   \n",
      "  12321  \n",
      " 1234321 \n",
      "123454321\n",
      " 1234321 \n",
      "  12321  \n",
      "   121   \n",
      "    1    \n"
     ]
    }
   ],
   "source": [
    "n = int(input())\n",
    "a  = [ ]\n",
    "width = n*2-1\n",
    "\n",
    "for y in range(width):\n",
    "   a.append([])\n",
    "   for x in range(width):\n",
    "       d = n - abs(y+1-n) - abs(x+1-n)\n",
    "       a[y].append( d if d > 0 else \" \")\n",
    "\n",
    "for l in a:\n",
    "    print(*l,sep='')"
   ]
  },
  {
   "cell_type": "code",
   "execution_count": null,
   "id": "a0629c1d",
   "metadata": {},
   "outputs": [],
   "source": []
  }
 ],
 "metadata": {
  "kernelspec": {
   "display_name": "Python 3 (ipykernel)",
   "language": "python",
   "name": "python3"
  },
  "language_info": {
   "codemirror_mode": {
    "name": "ipython",
    "version": 3
   },
   "file_extension": ".py",
   "mimetype": "text/x-python",
   "name": "python",
   "nbconvert_exporter": "python",
   "pygments_lexer": "ipython3",
   "version": "3.9.1"
  }
 },
 "nbformat": 4,
 "nbformat_minor": 5
}

{
 "cells": [
  {
   "cell_type": "code",
   "execution_count": 1,
   "id": "9564d237",
   "metadata": {},
   "outputs": [],
   "source": [
    "def unique(list):\n",
    "    a = set(list)\n",
    "    return (len(a))"
   ]
  },
  {
   "cell_type": "code",
   "execution_count": 2,
   "id": "993b1901",
   "metadata": {},
   "outputs": [
    {
     "data": {
      "text/plain": [
       "5"
      ]
     },
     "execution_count": 2,
     "metadata": {},
     "output_type": "execute_result"
    }
   ],
   "source": [
    "unique([1,1,2,3,4,5,5])"
   ]
  },
  {
   "cell_type": "code",
   "execution_count": 6,
   "id": "153b7ab9",
   "metadata": {},
   "outputs": [],
   "source": [
    "def common(list1, list2):\n",
    "    a = set(list1)\n",
    "    b = set(list2)\n",
    "    return (len(a & b))"
   ]
  },
  {
   "cell_type": "code",
   "execution_count": 7,
   "id": "1b6c3d78",
   "metadata": {},
   "outputs": [
    {
     "data": {
      "text/plain": [
       "2"
      ]
     },
     "execution_count": 7,
     "metadata": {},
     "output_type": "execute_result"
    }
   ],
   "source": [
    "common([1,2,3,3,4,4,5],[1,3])"
   ]
  },
  {
   "cell_type": "code",
   "execution_count": null,
   "id": "452c21f0",
   "metadata": {},
   "outputs": [],
   "source": []
  }
 ],
 "metadata": {
  "kernelspec": {
   "display_name": "Python 3 (ipykernel)",
   "language": "python",
   "name": "python3"
  },
  "language_info": {
   "codemirror_mode": {
    "name": "ipython",
    "version": 3
   },
   "file_extension": ".py",
   "mimetype": "text/x-python",
   "name": "python",
   "nbconvert_exporter": "python",
   "pygments_lexer": "ipython3",
   "version": "3.9.1"
  }
 },
 "nbformat": 4,
 "nbformat_minor": 5
}

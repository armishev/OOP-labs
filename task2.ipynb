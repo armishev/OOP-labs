{
 "cells": [
  {
   "cell_type": "code",
   "execution_count": 1,
   "id": "bcc9ee0e",
   "metadata": {},
   "outputs": [],
   "source": [
    "def min(a,b):\n",
    "    if a < b:\n",
    "        return a\n",
    "    else:\n",
    "        return b"
   ]
  },
  {
   "cell_type": "code",
   "execution_count": 2,
   "id": "52ea7ab9",
   "metadata": {},
   "outputs": [
    {
     "data": {
      "text/plain": [
       "3"
      ]
     },
     "execution_count": 2,
     "metadata": {},
     "output_type": "execute_result"
    }
   ],
   "source": [
    "min(7,3)"
   ]
  },
  {
   "cell_type": "code",
   "execution_count": 3,
   "id": "3a473d6a",
   "metadata": {},
   "outputs": [
    {
     "data": {
      "text/plain": [
       "3"
      ]
     },
     "execution_count": 3,
     "metadata": {},
     "output_type": "execute_result"
    }
   ],
   "source": [
    "min(3,5)"
   ]
  },
  {
   "cell_type": "code",
   "execution_count": 5,
   "id": "c6743ed0",
   "metadata": {},
   "outputs": [],
   "source": [
    "def min(a,b,c):\n",
    "    if a <= b and a <= c:\n",
    "        return a\n",
    "    elif b <= a and b <= c:\n",
    "        return b\n",
    "    else:\n",
    "        return c"
   ]
  },
  {
   "cell_type": "code",
   "execution_count": 6,
   "id": "5a3b97d2",
   "metadata": {},
   "outputs": [
    {
     "data": {
      "text/plain": [
       "3"
      ]
     },
     "execution_count": 6,
     "metadata": {},
     "output_type": "execute_result"
    }
   ],
   "source": [
    "min(3,3,5)"
   ]
  },
  {
   "cell_type": "code",
   "execution_count": 7,
   "id": "f4d104de",
   "metadata": {},
   "outputs": [
    {
     "data": {
      "text/plain": [
       "2"
      ]
     },
     "execution_count": 7,
     "metadata": {},
     "output_type": "execute_result"
    }
   ],
   "source": [
    "min(2,3,4)"
   ]
  },
  {
   "cell_type": "code",
   "execution_count": 8,
   "id": "234eaeb1",
   "metadata": {},
   "outputs": [
    {
     "data": {
      "text/plain": [
       "3"
      ]
     },
     "execution_count": 8,
     "metadata": {},
     "output_type": "execute_result"
    }
   ],
   "source": [
    "min(3,5,6)"
   ]
  },
  {
   "cell_type": "code",
   "execution_count": 10,
   "id": "6b73e4d5",
   "metadata": {},
   "outputs": [],
   "source": [
    "def comp(a,b,c):\n",
    "    if a == b and b == c and a == c:\n",
    "        return 3;\n",
    "    elif a == b or a == c or b == c:\n",
    "        return 2;\n",
    "    else:\n",
    "        return 0;"
   ]
  },
  {
   "cell_type": "code",
   "execution_count": 11,
   "id": "d2e1c212",
   "metadata": {},
   "outputs": [
    {
     "data": {
      "text/plain": [
       "3"
      ]
     },
     "execution_count": 11,
     "metadata": {},
     "output_type": "execute_result"
    }
   ],
   "source": [
    "comp(3,3,3)"
   ]
  },
  {
   "cell_type": "code",
   "execution_count": 12,
   "id": "5c185905",
   "metadata": {},
   "outputs": [
    {
     "data": {
      "text/plain": [
       "2"
      ]
     },
     "execution_count": 12,
     "metadata": {},
     "output_type": "execute_result"
    }
   ],
   "source": [
    "comp(3,3,2)"
   ]
  },
  {
   "cell_type": "code",
   "execution_count": 13,
   "id": "57607738",
   "metadata": {},
   "outputs": [
    {
     "data": {
      "text/plain": [
       "0"
      ]
     },
     "execution_count": 13,
     "metadata": {},
     "output_type": "execute_result"
    }
   ],
   "source": [
    "comp(1,2,3)"
   ]
  },
  {
   "cell_type": "code",
   "execution_count": null,
   "id": "07d7c6bb",
   "metadata": {},
   "outputs": [],
   "source": []
  }
 ],
 "metadata": {
  "kernelspec": {
   "display_name": "Python 3 (ipykernel)",
   "language": "python",
   "name": "python3"
  },
  "language_info": {
   "codemirror_mode": {
    "name": "ipython",
    "version": 3
   },
   "file_extension": ".py",
   "mimetype": "text/x-python",
   "name": "python",
   "nbconvert_exporter": "python",
   "pygments_lexer": "ipython3",
   "version": "3.9.1"
  }
 },
 "nbformat": 4,
 "nbformat_minor": 5
}

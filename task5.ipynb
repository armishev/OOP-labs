{
 "cells": [
  {
   "cell_type": "code",
   "execution_count": 24,
   "id": "5fe65b6e",
   "metadata": {},
   "outputs": [],
   "source": [
    "def chet(list):\n",
    "    a = []\n",
    "    for i in range(0,len(list),2):\n",
    "        a.append(list[i])\n",
    "    return a"
   ]
  },
  {
   "cell_type": "code",
   "execution_count": 25,
   "id": "1f1d12fd",
   "metadata": {},
   "outputs": [
    {
     "data": {
      "text/plain": [
       "[1, 3]"
      ]
     },
     "execution_count": 25,
     "metadata": {},
     "output_type": "execute_result"
    }
   ],
   "source": [
    "chet([1,2,3])"
   ]
  },
  {
   "cell_type": "code",
   "execution_count": 27,
   "id": "f6ee4d6f",
   "metadata": {},
   "outputs": [],
   "source": [
    "def greater(list):\n",
    "    a = []\n",
    "    for i in range(1,len(list)):\n",
    "        if list[i] > list[i-1]:\n",
    "            a.append(list[i])\n",
    "    return a"
   ]
  },
  {
   "cell_type": "code",
   "execution_count": 28,
   "id": "9ce94a64",
   "metadata": {},
   "outputs": [
    {
     "data": {
      "text/plain": [
       "[3]"
      ]
     },
     "execution_count": 28,
     "metadata": {},
     "output_type": "execute_result"
    }
   ],
   "source": [
    "greater([1,3,2])"
   ]
  },
  {
   "cell_type": "code",
   "execution_count": 29,
   "id": "737cc030",
   "metadata": {},
   "outputs": [
    {
     "data": {
      "text/plain": [
       "[3, 6, 3]"
      ]
     },
     "execution_count": 29,
     "metadata": {},
     "output_type": "execute_result"
    }
   ],
   "source": [
    "greater([5,2,3,6,1,3])"
   ]
  },
  {
   "cell_type": "code",
   "execution_count": 32,
   "id": "a3603ed9",
   "metadata": {},
   "outputs": [],
   "source": [
    "def switch(list):\n",
    "    a = max(list)\n",
    "    b = min(list)\n",
    "    mins = []\n",
    "    maxs = []\n",
    "    for i in range(len(list)):\n",
    "        if list[i] == a:\n",
    "            maxs.append(i)\n",
    "        if list[i] == b:\n",
    "            mins.append(i)\n",
    "    c = min(len(maxs),len(mins))\n",
    "    for i in range(c):\n",
    "        list[mins[i]] = a\n",
    "        list[maxs[i]] = b\n",
    "    return list\n",
    "        "
   ]
  },
  {
   "cell_type": "code",
   "execution_count": 33,
   "id": "1dde3409",
   "metadata": {},
   "outputs": [
    {
     "data": {
      "text/plain": [
       "[5, 2, 3, 4, 1]"
      ]
     },
     "execution_count": 33,
     "metadata": {},
     "output_type": "execute_result"
    }
   ],
   "source": [
    "switch([1,2,3,4,5])"
   ]
  },
  {
   "cell_type": "code",
   "execution_count": 34,
   "id": "2fbe99b9",
   "metadata": {},
   "outputs": [
    {
     "data": {
      "text/plain": [
       "[5, 5, 2, 3, 4, 1, 1]"
      ]
     },
     "execution_count": 34,
     "metadata": {},
     "output_type": "execute_result"
    }
   ],
   "source": [
    "switch([1,1,2,3,4,5,5])"
   ]
  },
  {
   "cell_type": "code",
   "execution_count": 35,
   "id": "6d0f1830",
   "metadata": {},
   "outputs": [
    {
     "data": {
      "text/plain": [
       "[7, 2, 3, 4, 5, 1, 6, 1]"
      ]
     },
     "execution_count": 35,
     "metadata": {},
     "output_type": "execute_result"
    }
   ],
   "source": [
    "switch([1,2,3,4,5,1,6,7])"
   ]
  }
 ],
 "metadata": {
  "kernelspec": {
   "display_name": "Python 3 (ipykernel)",
   "language": "python",
   "name": "python3"
  },
  "language_info": {
   "codemirror_mode": {
    "name": "ipython",
    "version": 3
   },
   "file_extension": ".py",
   "mimetype": "text/x-python",
   "name": "python",
   "nbconvert_exporter": "python",
   "pygments_lexer": "ipython3",
   "version": "3.9.1"
  }
 },
 "nbformat": 4,
 "nbformat_minor": 5
}

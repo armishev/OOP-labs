{
 "cells": [
  {
   "cell_type": "code",
   "execution_count": 7,
   "id": "f895eb92",
   "metadata": {},
   "outputs": [],
   "source": [
    "def value(dict, key):\n",
    "    return dict.get(key)"
   ]
  },
  {
   "cell_type": "code",
   "execution_count": 9,
   "id": "933c2719",
   "metadata": {},
   "outputs": [
    {
     "data": {
      "text/plain": [
       "1"
      ]
     },
     "execution_count": 9,
     "metadata": {},
     "output_type": "execute_result"
    }
   ],
   "source": [
    "value({'one': 1,\n",
    "      'two': 2,\n",
    "      'three': 3,\n",
    "      'four': 4,\n",
    "      },'one')"
   ]
  },
  {
   "cell_type": "code",
   "execution_count": 10,
   "id": "4b5f1a6d",
   "metadata": {},
   "outputs": [
    {
     "data": {
      "text/plain": [
       "2"
      ]
     },
     "execution_count": 10,
     "metadata": {},
     "output_type": "execute_result"
    }
   ],
   "source": [
    "value({'one': 1,\n",
    "      'two': 2,\n",
    "      'three': 3,\n",
    "      'four': 4,\n",
    "      },'two')"
   ]
  },
  {
   "cell_type": "code",
   "execution_count": null,
   "id": "b692b3a5",
   "metadata": {},
   "outputs": [],
   "source": []
  }
 ],
 "metadata": {
  "kernelspec": {
   "display_name": "Python 3 (ipykernel)",
   "language": "python",
   "name": "python3"
  },
  "language_info": {
   "codemirror_mode": {
    "name": "ipython",
    "version": 3
   },
   "file_extension": ".py",
   "mimetype": "text/x-python",
   "name": "python",
   "nbconvert_exporter": "python",
   "pygments_lexer": "ipython3",
   "version": "3.9.1"
  }
 },
 "nbformat": 4,
 "nbformat_minor": 5
}
